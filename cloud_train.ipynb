{
 "cells": [
  {
   "cell_type": "code",
   "execution_count": null,
   "metadata": {},
   "outputs": [],
   "source": [
    "'''using torchvision for dataloading'''\n",
    "import time\n",
    "import numpy as np\n",
    "import torch\n",
    "import torch.nn as nn\n",
    "import torch.optim as optim\n",
    "import matplotlib.pyplot as plt\n",
    "from torch.cuda.amp import GradScaler, autocast\n",
    "from tqdm import tqdm\n",
    "from psutil import cpu_count\n",
    "from torchvision import transforms\n",
    "from torch.utils.data import DataLoader\n",
    "from dataloader import PicklebotDataset, custom_collate\n",
    "from mobilenet import MobileNetLarge2D, MobileNetSmall2D, MobileNetSmall3D,MobileNetLarge3D\n",
    "from helpers import calculate_accuracy, initialize_mobilenet_weights\n",
    "\n",
    "%matplotlib widget\n",
    "\n",
    "'''strikes are 1, ballss are 2 since we pad with 0s and cross entropy loss has to ignore something.'''\n",
    "\n",
    "device = 'cuda' if torch.cuda.is_available() else 'cpu'\n",
    "\n",
    "#hyperparameters\n",
    "learning_rate = 3e-4 #the paper quotes rmsprop with 0.1 lr, but we have a tiny batch size, and are using AdamW\n",
    "batch_size = 4 #the paper quotes 128 images/chip, but with video we have to change this\n",
    "max_iters = 2000\n",
    "eval_interval = 50\n",
    "weight_decay = 0.0005\n",
    "momentum = 0.9\n",
    "eps = np.sqrt(0.002) #From the pytorch blog post, \"a reasonable approximation can be taken with the formula PyTorch_eps = sqrt(TF_eps).\"\n",
    "use_autocast = False\n",
    "\n",
    "#video paths\n",
    "train_video_paths = '/workspace/picklebotdataset/train'\n",
    "val_video_paths = '/workspace/picklebotdataset/val'\n",
    "\n",
    "#annotations paths\n",
    "train_annotations_file = '/home/hankhome/Documents/PythonProjects/picklebotdataset/train_labels.csv'\n",
    "val_annotations_file = '/home/hankhome/Documents/PythonProjects/picklebotdataset/val_labels.csv'\n",
    "\n",
    "#video paths\n",
    "train_video_paths = '/home/hankhome/Documents/PythonProjects/picklebotdataset/train_all_together'\n",
    "val_video_paths = '/home/hankhome/Documents/PythonProjects/picklebotdataset/val_all_together'\n",
    "\n",
    "#establish our normalization using transforms\n",
    "transform = transforms.Normalize((0.5,), (0.5,))\n",
    "\n",
    "#dataset     \n",
    "train_dataset = PicklebotDataset(train_annotations_file,train_video_paths,transform=transform)\n",
    "train_loader = DataLoader(train_dataset, batch_size=batch_size,shuffle=True,collate_fn=custom_collate,num_workers=cpu_count())\n",
    "val_dataset = PicklebotDataset(val_annotations_file,val_video_paths,transform=transform)\n",
    "val_loader = DataLoader(val_dataset, batch_size=batch_size,shuffle=True,collate_fn=custom_collate,num_workers=cpu_count())\n",
    "\n",
    "#model, optimizer, loss function\n",
    "model = MobileNetSmall3D().to(device)\n",
    "\n",
    "#initialize weights\n",
    "initialize_mobilenet_weights(model)\n",
    "\n",
    "#for multi-gpu\n",
    "if torch.cuda.device_count() > 1:\n",
    "    model = nn.DataParallel(model)\n",
    "\n",
    "# optimizer = optim.RMSprop(params=model.parameters(),lr=learning_rate,weight_decay=weight_decay,momentum=momentum,eps=eps) #starting with AdamW for now. \n",
    "optimizer = optim.AdamW(params=model.parameters(),lr=learning_rate)\n",
    "criterion = nn.CrossEntropyLoss(ignore_index=0)\n",
    "scaler = GradScaler()\n",
    "model_name = 'mobilenetsmall_3D_lambda' \n",
    "\n",
    "@torch.no_grad()\n",
    "def estimate_loss():\n",
    "    #evaluate the model\n",
    "    model.eval()\n",
    "    val_losses = [] \n",
    "    correct_predictions = 0\n",
    "\n",
    "    #calculate the loss\n",
    "    for val_features,val_labels in val_loader:\n",
    "        val_features = val_features.to(device)\n",
    "        val_labels = val_labels.to(torch.int64) #waiting to move to device until after forward pass, idk if this matters\n",
    "        val_labels = val_labels.expand(val_features.shape[2]) #this is only for our lstm T -> batch size, a lame hack\n",
    "        \n",
    "        val_outputs = model(val_features)\n",
    "        \n",
    "        val_loss = criterion(val_outputs,val_labels.to(device))\n",
    "        \n",
    "        val_losses.append(val_loss.item())\n",
    "         \n",
    "        correct_predictions += calculate_accuracy(val_outputs,val_labels)\n",
    "    \n",
    "    avg_val_loss = np.mean(val_losses)\n",
    "    val_accuracy = correct_predictions / len(val_loader.dataset)\n",
    "    return avg_val_loss, val_accuracy\n",
    "\n",
    "\n",
    "\n",
    "\n",
    "\n",
    "#try except block so we can manually early stop while saving the model\n",
    "#training loop\n",
    "start_time = time.time()\n",
    "train_losses = []\n",
    "train_percent = []\n",
    "val_losses = []\n",
    "val_percent = []\n",
    "\n",
    "\n",
    "#plot losses\n",
    "plt.ion()\n",
    "fig, (ax1, ax2) = plt.subplots(1,2,figsize=(12,4))\n",
    "ax1.plot(train_losses, label='Train Loss')\n",
    "ax1.plot(val_losses, label='Val Loss')\n",
    "ax1.set_xlabel('Iteration')\n",
    "ax1.set_ylabel('Loss')\n",
    "ax1.legend()\n",
    "\n",
    "#plot accuracy\n",
    "ax2.plot(train_percent, label='Train Accuracy')\n",
    "ax2.plot(val_percent, label='Val Accuracy')\n",
    "ax2.set_xlabel('Iteration')\n",
    "ax2.set_ylabel('Accuracy')\n",
    "ax2.legend()\n",
    "\n",
    "\n",
    "try:\n",
    "    for iter in range(max_iters):\n",
    "        \n",
    "        model.train()\n",
    "        train_correct = 0\n",
    "        train_samples = 0\n",
    "        #forward pass\n",
    "        for batch_idx, (features,labels) in tqdm(enumerate(train_loader)):\n",
    "            \n",
    "            labels = labels.to(torch.int64)\n",
    "            features = features.to(device)\n",
    "            labels = labels.expand(features.shape[2]) #this is only for our lstm T -> batch size, a lame hack\n",
    "            \n",
    "            #zero the gradients\n",
    "            optimizer.zero_grad(set_to_none=True)\n",
    "            \n",
    "            if use_autocast:    \n",
    "                with autocast():\n",
    "                    outputs = model(features)\n",
    "                    loss = criterion(outputs,labels.to(device))\n",
    "                \n",
    "                #backprop & update weights\n",
    "\n",
    "                scaler.scale(loss).backward()\n",
    "                scaler.step(optimizer)\n",
    "                scaler.update()\n",
    "\n",
    "            else:\n",
    "                outputs = model(features)\n",
    "                loss = criterion(outputs,labels.to(device))\n",
    "\n",
    "                #backprop & update weights\n",
    "                loss.backward()\n",
    "                optimizer.step()\n",
    "            \n",
    "\n",
    "            batch_correct = calculate_accuracy(outputs,labels)\n",
    "            train_correct += batch_correct\n",
    "            train_samples += len(labels)\n",
    "            train_losses.append(loss.item())\n",
    "\n",
    "        if iter % eval_interval == 0 or iter == max_iters - 1:\n",
    "            \n",
    "            #evaluate the model\n",
    "            avg_train_loss = np.mean(train_losses)\n",
    "            train_percent.append(train_correct / train_samples)\n",
    "            val_loss, val_accuracy = estimate_loss()\n",
    "        \n",
    "            val_losses.append(val_loss) #loss of the val batch\n",
    "            val_percent.append(val_accuracy) #percent of correct predictions in the val batch\n",
    "\n",
    "            print(f\"step {iter}: train loss:  {avg_train_loss:.4f}, val loss: {val_loss:.4f}\")\n",
    "            print(f\"step {iter}: train accuracy:  {train_percent[-1]*100:.2f}%, val accuracy: {val_percent[-1]*100:.2f}%\")\n",
    "\n",
    "            # #plot the losses\n",
    "            ax1.plot(train_losses, label='Train Loss')\n",
    "            ax1.plot(val_losses, label='Val Loss')\n",
    "\n",
    "            #plot the accuracy\n",
    "            ax2.plot(train_percent, label='Train Accuracy')\n",
    "            ax2.plot(val_percent, label='Val Accuracy')\n",
    "\n",
    "\n",
    "            fig.canvas.draw()\n",
    "            fig.canvas.flush_events()\n",
    "            plt.pause(0.001)\n",
    "\n",
    "\n",
    "        elapsed = time.time() - start_time\n",
    "        remaining_iters = max_iters - iter\n",
    "        avg_time_per_iter = elapsed / (iter + 1)\n",
    "        estimated_remaining_time = remaining_iters * avg_time_per_iter\n",
    "\n",
    "        tqdm.write(f\"Iter [{iter+1}/{max_iters}] - Elapsed Time: {elapsed:.2f}s  Remaining Time: [{estimated_remaining_time:.2f}]\")\n",
    "        if iter == max_iters -1:\n",
    "            print(\"Training completed:\") \n",
    "            print(f\"Final train loss: {train_losses[-1]:.4f},\")\n",
    "            print(f\"Final val loss: {val_losses[-1]:.4f}, \")\n",
    "            print(f\"Final train accuracy: {train_percent[-1]*100:.2f}%, \")\n",
    "            print(f\"Final val accuracy: {val_percent[-1]*100:.2f}%\") \n",
    "            \n",
    "except KeyboardInterrupt:\n",
    "    print(f\"Keyboard interrupt,\\nFinal train loss: {train_losses[-1]:.4f}, \")\n",
    "    print(f\"Final val loss: {val_losses[-1]:.4f}, \")\n",
    "    print(f\"Final train accuracy: {train_percent[-1]*100:.2f}%, \")\n",
    "    print(f\"Final val accuracy: {val_percent[-1]*100:.2f}%\")\n",
    "\n",
    "finally:\n",
    "    torch.save(model.state_dict(), f'{model_name}.pth')\n",
    "    with open(f'{model_name}_train_losses.npy', 'wb') as f:\n",
    "        np.save(f, np.array(train_losses))\n",
    "    with open(f'{model_name}_val_losses.npy', 'wb') as f:\n",
    "        np.save(f, np.array(val_losses))\n",
    "    with open(f'{model_name}_train_percent.npy', 'wb') as f:\n",
    "        np.save(f, np.array(train_percent))\n",
    "    with open(f'{model_name}_val_percent.npy', 'wb') as f:\n",
    "        np.save(f, np.array(val_percent))\n",
    "    print(f\"Model saved!\") \n",
    "plt.ioff()"
   ]
  },
  {
   "cell_type": "code",
   "execution_count": 6,
   "metadata": {},
   "outputs": [
    {
     "name": "stderr",
     "output_type": "stream",
     "text": [
      "/home/hankhome/mambaforge/lib/python3.10/site-packages/nvidia/dali/plugin/base_iterator.py:191: Warning: Please set `reader_name` and don't set last_batch_padded and size manually whenever possible. This may lead, in some situations, to missing some samples or returning duplicated ones. Check the Sharding section of the documentation for more details.\n",
      "  _iterator_deprecation_warning()\n",
      "4it [00:09,  2.38s/it]\n"
     ]
    },
    {
     "name": "stdout",
     "output_type": "stream",
     "text": [
      "Iter [1/200] - Elapsed Time: 9.67s  Remaining Time: [1933.82]\n"
     ]
    },
    {
     "name": "stderr",
     "output_type": "stream",
     "text": [
      "4it [00:09,  2.38s/it]\n"
     ]
    },
    {
     "name": "stdout",
     "output_type": "stream",
     "text": [
      "Iter [2/200] - Elapsed Time: 19.17s  Remaining Time: [1907.63]\n"
     ]
    },
    {
     "name": "stderr",
     "output_type": "stream",
     "text": [
      "4it [00:09,  2.47s/it]\n"
     ]
    },
    {
     "name": "stdout",
     "output_type": "stream",
     "text": [
      "Iter [3/200] - Elapsed Time: 29.04s  Remaining Time: [1916.72]\n"
     ]
    },
    {
     "name": "stderr",
     "output_type": "stream",
     "text": [
      "4it [00:09,  2.41s/it]\n"
     ]
    },
    {
     "name": "stdout",
     "output_type": "stream",
     "text": [
      "Iter [4/200] - Elapsed Time: 38.70s  Remaining Time: [1905.90]\n"
     ]
    },
    {
     "name": "stderr",
     "output_type": "stream",
     "text": [
      "4it [00:09,  2.39s/it]\n"
     ]
    },
    {
     "name": "stdout",
     "output_type": "stream",
     "text": [
      "Iter [5/200] - Elapsed Time: 48.25s  Remaining Time: [1891.55]\n"
     ]
    },
    {
     "name": "stderr",
     "output_type": "stream",
     "text": [
      "4it [00:09,  2.34s/it]\n"
     ]
    },
    {
     "name": "stdout",
     "output_type": "stream",
     "text": [
      "Iter [6/200] - Elapsed Time: 57.61s  Remaining Time: [1872.35]\n"
     ]
    },
    {
     "name": "stderr",
     "output_type": "stream",
     "text": [
      "4it [00:09,  2.45s/it]\n"
     ]
    },
    {
     "name": "stdout",
     "output_type": "stream",
     "text": [
      "Iter [7/200] - Elapsed Time: 67.41s  Remaining Time: [1868.14]\n"
     ]
    },
    {
     "name": "stderr",
     "output_type": "stream",
     "text": [
      "4it [00:09,  2.29s/it]\n"
     ]
    },
    {
     "name": "stdout",
     "output_type": "stream",
     "text": [
      "Iter [8/200] - Elapsed Time: 76.58s  Remaining Time: [1847.45]\n"
     ]
    },
    {
     "name": "stderr",
     "output_type": "stream",
     "text": [
      "4it [00:09,  2.50s/it]\n"
     ]
    },
    {
     "name": "stdout",
     "output_type": "stream",
     "text": [
      "Iter [9/200] - Elapsed Time: 86.58s  Remaining Time: [1846.94]\n"
     ]
    },
    {
     "name": "stderr",
     "output_type": "stream",
     "text": [
      "4it [00:11,  2.81s/it]\n"
     ]
    },
    {
     "name": "stdout",
     "output_type": "stream",
     "text": [
      "Iter [10/200] - Elapsed Time: 97.82s  Remaining Time: [1868.37]\n"
     ]
    },
    {
     "name": "stderr",
     "output_type": "stream",
     "text": [
      "4it [00:10,  2.66s/it]\n"
     ]
    },
    {
     "name": "stdout",
     "output_type": "stream",
     "text": [
      "Iter [11/200] - Elapsed Time: 108.48s  Remaining Time: [1873.66]\n"
     ]
    },
    {
     "name": "stderr",
     "output_type": "stream",
     "text": [
      "4it [00:11,  2.92s/it]\n"
     ]
    },
    {
     "name": "stdout",
     "output_type": "stream",
     "text": [
      "Iter [12/200] - Elapsed Time: 120.15s  Remaining Time: [1892.34]\n"
     ]
    },
    {
     "name": "stderr",
     "output_type": "stream",
     "text": [
      "4it [00:11,  2.90s/it]\n"
     ]
    },
    {
     "name": "stdout",
     "output_type": "stream",
     "text": [
      "Iter [13/200] - Elapsed Time: 131.77s  Remaining Time: [1905.62]\n"
     ]
    },
    {
     "name": "stderr",
     "output_type": "stream",
     "text": [
      "4it [00:11,  2.86s/it]\n"
     ]
    },
    {
     "name": "stdout",
     "output_type": "stream",
     "text": [
      "Iter [14/200] - Elapsed Time: 143.23s  Remaining Time: [1913.21]\n"
     ]
    },
    {
     "name": "stderr",
     "output_type": "stream",
     "text": [
      "4it [00:11,  2.80s/it]\n"
     ]
    },
    {
     "name": "stdout",
     "output_type": "stream",
     "text": [
      "Iter [15/200] - Elapsed Time: 154.43s  Remaining Time: [1914.91]\n"
     ]
    },
    {
     "name": "stderr",
     "output_type": "stream",
     "text": [
      "4it [00:11,  2.97s/it]\n"
     ]
    },
    {
     "name": "stdout",
     "output_type": "stream",
     "text": [
      "Iter [16/200] - Elapsed Time: 166.30s  Remaining Time: [1922.80]\n"
     ]
    },
    {
     "name": "stderr",
     "output_type": "stream",
     "text": [
      "4it [00:12,  3.07s/it]\n"
     ]
    },
    {
     "name": "stdout",
     "output_type": "stream",
     "text": [
      "Iter [17/200] - Elapsed Time: 178.57s  Remaining Time: [1932.80]\n"
     ]
    },
    {
     "name": "stderr",
     "output_type": "stream",
     "text": [
      "4it [00:11,  2.88s/it]\n"
     ]
    },
    {
     "name": "stdout",
     "output_type": "stream",
     "text": [
      "Iter [18/200] - Elapsed Time: 190.09s  Remaining Time: [1932.58]\n"
     ]
    },
    {
     "name": "stderr",
     "output_type": "stream",
     "text": [
      "4it [00:11,  2.79s/it]\n"
     ]
    },
    {
     "name": "stdout",
     "output_type": "stream",
     "text": [
      "Iter [19/200] - Elapsed Time: 201.26s  Remaining Time: [1927.88]\n"
     ]
    },
    {
     "name": "stderr",
     "output_type": "stream",
     "text": [
      "4it [00:10,  2.50s/it]\n"
     ]
    },
    {
     "name": "stdout",
     "output_type": "stream",
     "text": [
      "Iter [20/200] - Elapsed Time: 211.28s  Remaining Time: [1912.12]\n"
     ]
    },
    {
     "name": "stderr",
     "output_type": "stream",
     "text": [
      "4it [00:09,  2.44s/it]\n"
     ]
    },
    {
     "name": "stdout",
     "output_type": "stream",
     "text": [
      "Iter [21/200] - Elapsed Time: 221.06s  Remaining Time: [1894.83]\n"
     ]
    },
    {
     "name": "stderr",
     "output_type": "stream",
     "text": [
      "4it [00:09,  2.37s/it]\n"
     ]
    },
    {
     "name": "stdout",
     "output_type": "stream",
     "text": [
      "Iter [22/200] - Elapsed Time: 230.56s  Remaining Time: [1875.89]\n"
     ]
    },
    {
     "name": "stderr",
     "output_type": "stream",
     "text": [
      "4it [00:09,  2.43s/it]\n"
     ]
    },
    {
     "name": "stdout",
     "output_type": "stream",
     "text": [
      "Iter [23/200] - Elapsed Time: 240.27s  Remaining Time: [1859.50]\n"
     ]
    },
    {
     "name": "stderr",
     "output_type": "stream",
     "text": [
      "4it [00:09,  2.33s/it]\n"
     ]
    },
    {
     "name": "stdout",
     "output_type": "stream",
     "text": [
      "Iter [24/200] - Elapsed Time: 249.61s  Remaining Time: [1840.90]\n"
     ]
    },
    {
     "name": "stderr",
     "output_type": "stream",
     "text": [
      "4it [00:09,  2.30s/it]\n"
     ]
    },
    {
     "name": "stdout",
     "output_type": "stream",
     "text": [
      "Iter [25/200] - Elapsed Time: 258.80s  Remaining Time: [1821.97]\n"
     ]
    },
    {
     "name": "stderr",
     "output_type": "stream",
     "text": [
      "4it [00:09,  2.32s/it]\n"
     ]
    },
    {
     "name": "stdout",
     "output_type": "stream",
     "text": [
      "Iter [26/200] - Elapsed Time: 268.07s  Remaining Time: [1804.34]\n"
     ]
    },
    {
     "name": "stderr",
     "output_type": "stream",
     "text": [
      "4it [00:09,  2.27s/it]\n"
     ]
    },
    {
     "name": "stdout",
     "output_type": "stream",
     "text": [
      "Iter [27/200] - Elapsed Time: 277.16s  Remaining Time: [1786.11]\n"
     ]
    },
    {
     "name": "stderr",
     "output_type": "stream",
     "text": [
      "4it [00:09,  2.28s/it]\n"
     ]
    },
    {
     "name": "stdout",
     "output_type": "stream",
     "text": [
      "Iter [28/200] - Elapsed Time: 286.29s  Remaining Time: [1768.89]\n"
     ]
    },
    {
     "name": "stderr",
     "output_type": "stream",
     "text": [
      "4it [00:08,  2.24s/it]\n"
     ]
    },
    {
     "name": "stdout",
     "output_type": "stream",
     "text": [
      "Iter [29/200] - Elapsed Time: 295.24s  Remaining Time: [1751.10]\n"
     ]
    },
    {
     "name": "stderr",
     "output_type": "stream",
     "text": [
      "4it [00:09,  2.26s/it]\n"
     ]
    },
    {
     "name": "stdout",
     "output_type": "stream",
     "text": [
      "Iter [30/200] - Elapsed Time: 304.31s  Remaining Time: [1734.54]\n"
     ]
    },
    {
     "name": "stderr",
     "output_type": "stream",
     "text": [
      "4it [00:09,  2.31s/it]\n"
     ]
    },
    {
     "name": "stdout",
     "output_type": "stream",
     "text": [
      "Iter [31/200] - Elapsed Time: 313.55s  Remaining Time: [1719.48]\n"
     ]
    },
    {
     "name": "stderr",
     "output_type": "stream",
     "text": [
      "4it [00:09,  2.30s/it]\n"
     ]
    },
    {
     "name": "stdout",
     "output_type": "stream",
     "text": [
      "Iter [32/200] - Elapsed Time: 322.76s  Remaining Time: [1704.56]\n"
     ]
    },
    {
     "name": "stderr",
     "output_type": "stream",
     "text": [
      "4it [00:09,  2.30s/it]\n"
     ]
    },
    {
     "name": "stdout",
     "output_type": "stream",
     "text": [
      "Iter [33/200] - Elapsed Time: 331.95s  Remaining Time: [1689.94]\n"
     ]
    },
    {
     "name": "stderr",
     "output_type": "stream",
     "text": [
      "4it [00:09,  2.39s/it]\n"
     ]
    },
    {
     "name": "stdout",
     "output_type": "stream",
     "text": [
      "Iter [34/200] - Elapsed Time: 341.53s  Remaining Time: [1677.50]\n"
     ]
    },
    {
     "name": "stderr",
     "output_type": "stream",
     "text": [
      "4it [00:09,  2.28s/it]\n"
     ]
    },
    {
     "name": "stdout",
     "output_type": "stream",
     "text": [
      "Iter [35/200] - Elapsed Time: 350.63s  Remaining Time: [1663.00]\n"
     ]
    },
    {
     "name": "stderr",
     "output_type": "stream",
     "text": [
      "4it [00:09,  2.28s/it]\n"
     ]
    },
    {
     "name": "stdout",
     "output_type": "stream",
     "text": [
      "Iter [36/200] - Elapsed Time: 359.77s  Remaining Time: [1648.95]\n"
     ]
    },
    {
     "name": "stderr",
     "output_type": "stream",
     "text": [
      "4it [00:09,  2.27s/it]\n"
     ]
    },
    {
     "name": "stdout",
     "output_type": "stream",
     "text": [
      "Iter [37/200] - Elapsed Time: 368.86s  Remaining Time: [1634.93]\n"
     ]
    },
    {
     "name": "stderr",
     "output_type": "stream",
     "text": [
      "4it [00:09,  2.30s/it]\n"
     ]
    },
    {
     "name": "stdout",
     "output_type": "stream",
     "text": [
      "Iter [38/200] - Elapsed Time: 378.05s  Remaining Time: [1621.65]\n"
     ]
    },
    {
     "name": "stderr",
     "output_type": "stream",
     "text": [
      "4it [00:09,  2.39s/it]\n"
     ]
    },
    {
     "name": "stdout",
     "output_type": "stream",
     "text": [
      "Iter [39/200] - Elapsed Time: 387.63s  Remaining Time: [1610.14]\n"
     ]
    },
    {
     "name": "stderr",
     "output_type": "stream",
     "text": [
      "4it [00:09,  2.45s/it]\n"
     ]
    },
    {
     "name": "stdout",
     "output_type": "stream",
     "text": [
      "Iter [40/200] - Elapsed Time: 397.43s  Remaining Time: [1599.67]\n"
     ]
    },
    {
     "name": "stderr",
     "output_type": "stream",
     "text": [
      "4it [00:09,  2.46s/it]\n"
     ]
    },
    {
     "name": "stdout",
     "output_type": "stream",
     "text": [
      "Iter [41/200] - Elapsed Time: 407.28s  Remaining Time: [1589.38]\n"
     ]
    },
    {
     "name": "stderr",
     "output_type": "stream",
     "text": [
      "4it [00:09,  2.41s/it]\n"
     ]
    },
    {
     "name": "stdout",
     "output_type": "stream",
     "text": [
      "Iter [42/200] - Elapsed Time: 416.91s  Remaining Time: [1578.29]\n"
     ]
    },
    {
     "name": "stderr",
     "output_type": "stream",
     "text": [
      "4it [00:09,  2.36s/it]\n"
     ]
    },
    {
     "name": "stdout",
     "output_type": "stream",
     "text": [
      "Iter [43/200] - Elapsed Time: 426.33s  Remaining Time: [1566.53]\n"
     ]
    },
    {
     "name": "stderr",
     "output_type": "stream",
     "text": [
      "4it [00:09,  2.25s/it]\n"
     ]
    },
    {
     "name": "stdout",
     "output_type": "stream",
     "text": [
      "Iter [44/200] - Elapsed Time: 435.34s  Remaining Time: [1553.38]\n"
     ]
    },
    {
     "name": "stderr",
     "output_type": "stream",
     "text": [
      "4it [00:09,  2.27s/it]\n"
     ]
    },
    {
     "name": "stdout",
     "output_type": "stream",
     "text": [
      "Iter [45/200] - Elapsed Time: 444.41s  Remaining Time: [1540.62]\n"
     ]
    },
    {
     "name": "stderr",
     "output_type": "stream",
     "text": [
      "4it [00:09,  2.27s/it]\n"
     ]
    },
    {
     "name": "stdout",
     "output_type": "stream",
     "text": [
      "Iter [46/200] - Elapsed Time: 453.47s  Remaining Time: [1528.01]\n"
     ]
    },
    {
     "name": "stderr",
     "output_type": "stream",
     "text": [
      "4it [00:09,  2.45s/it]\n"
     ]
    },
    {
     "name": "stdout",
     "output_type": "stream",
     "text": [
      "Iter [47/200] - Elapsed Time: 463.27s  Remaining Time: [1517.96]\n"
     ]
    },
    {
     "name": "stderr",
     "output_type": "stream",
     "text": [
      "4it [00:09,  2.45s/it]\n"
     ]
    },
    {
     "name": "stdout",
     "output_type": "stream",
     "text": [
      "Iter [48/200] - Elapsed Time: 473.07s  Remaining Time: [1507.91]\n"
     ]
    },
    {
     "name": "stderr",
     "output_type": "stream",
     "text": [
      "4it [00:10,  2.55s/it]\n"
     ]
    },
    {
     "name": "stdout",
     "output_type": "stream",
     "text": [
      "Iter [49/200] - Elapsed Time: 483.29s  Remaining Time: [1499.19]\n"
     ]
    },
    {
     "name": "stderr",
     "output_type": "stream",
     "text": [
      "4it [00:09,  2.45s/it]\n",
      "4it [00:05,  1.37s/it]\n"
     ]
    },
    {
     "name": "stdout",
     "output_type": "stream",
     "text": [
      "step 49: train loss:  nan, val loss: nan\n",
      "step 49: train accuracy:  50.00%, val accuracy: 37.50%\n",
      "Model saved!\n"
     ]
    },
    {
     "ename": "AttributeError",
     "evalue": "'list' object has no attribute 'view'",
     "output_type": "error",
     "traceback": [
      "\u001b[0;31m---------------------------------------------------------------------------\u001b[0m",
      "\u001b[0;31mAttributeError\u001b[0m                            Traceback (most recent call last)",
      "\u001b[1;32m/home/hankhome/Documents/PythonProjects/Picklebot/cloud_train.ipynb Cell 2\u001b[0m line \u001b[0;36m2\n\u001b[1;32m    <a href='vscode-notebook-cell:/home/hankhome/Documents/PythonProjects/Picklebot/cloud_train.ipynb#W1sZmlsZQ%3D%3D?line=213'>214</a>\u001b[0m ax1\u001b[39m.\u001b[39mplot(torch\u001b[39m.\u001b[39mtensor(val_losses)\u001b[39m.\u001b[39mview(\u001b[39m-\u001b[39m\u001b[39m1\u001b[39m,\u001b[39m1\u001b[39m)\u001b[39m.\u001b[39mmean(\u001b[39m1\u001b[39m), label\u001b[39m=\u001b[39m\u001b[39m'\u001b[39m\u001b[39mVal Loss\u001b[39m\u001b[39m'\u001b[39m)\n\u001b[1;32m    <a href='vscode-notebook-cell:/home/hankhome/Documents/PythonProjects/Picklebot/cloud_train.ipynb#W1sZmlsZQ%3D%3D?line=215'>216</a>\u001b[0m \u001b[39m#plot the accuracy\u001b[39;00m\n\u001b[0;32m--> <a href='vscode-notebook-cell:/home/hankhome/Documents/PythonProjects/Picklebot/cloud_train.ipynb#W1sZmlsZQ%3D%3D?line=216'>217</a>\u001b[0m ax2\u001b[39m.\u001b[39mplot(train_percent\u001b[39m.\u001b[39;49mview(\u001b[39m-\u001b[39m\u001b[39m1\u001b[39m,\u001b[39m10\u001b[39m)\u001b[39m.\u001b[39mmean(\u001b[39m1\u001b[39m), label\u001b[39m=\u001b[39m\u001b[39m'\u001b[39m\u001b[39mTrain Accuracy\u001b[39m\u001b[39m'\u001b[39m)\n\u001b[1;32m    <a href='vscode-notebook-cell:/home/hankhome/Documents/PythonProjects/Picklebot/cloud_train.ipynb#W1sZmlsZQ%3D%3D?line=217'>218</a>\u001b[0m ax2\u001b[39m.\u001b[39mplot(val_percent\u001b[39m.\u001b[39mvie(\u001b[39m-\u001b[39m\u001b[39m1\u001b[39m,\u001b[39m1\u001b[39m)\u001b[39m.\u001b[39mmean(\u001b[39m1\u001b[39m), label\u001b[39m=\u001b[39m\u001b[39m'\u001b[39m\u001b[39mVal Accuracy\u001b[39m\u001b[39m'\u001b[39m)\n\u001b[1;32m    <a href='vscode-notebook-cell:/home/hankhome/Documents/PythonProjects/Picklebot/cloud_train.ipynb#W1sZmlsZQ%3D%3D?line=220'>221</a>\u001b[0m fig\u001b[39m.\u001b[39mcanvas\u001b[39m.\u001b[39mdraw()\n",
      "\u001b[0;31mAttributeError\u001b[0m: 'list' object has no attribute 'view'"
     ]
    },
    {
     "data": {
      "application/vnd.jupyter.widget-view+json": {
       "model_id": "4316f41bde1e4501941b1f70d5774273",
       "version_major": 2,
       "version_minor": 0
      },
      "image/png": "[encoded data removed]",
      "text/html": [
       "\n",
       "            <div style=\"display: inline-block;\">\n",
       "                <div class=\"jupyter-widgets widget-label\" style=\"text-align: center;\">\n",
       "                    Figure\n",
       "                </div>\n",
       "                <img src='data:image/png;base64,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' width=1200.0/>\n",
       "            </div>\n",
       "        "
      ],
      "text/plain": [
       "Canvas(toolbar=Toolbar(toolitems=[('Home', 'Reset original view', 'home', 'home'), ('Back', 'Back to previous …"
      ]
     },
     "metadata": {},
     "output_type": "display_data"
    }
   ],
   "source": [
    "'''This version of the program uses Nvidia Dali to load data, not torchvision.io.read_video,\n",
    "   It should be substantially faster, especially with multiple gpus, perhaps a good setup \n",
    "   would be one to load the videos, one to run the training loop? Perhaps not as I learned more about it.\n",
    "\n",
    "    Eventually, this and the other version in this notebook should be merged into one notebook, with a flag to choose which to use.\n",
    "   \n",
    "'''\n",
    "import os\n",
    "import torch\n",
    "import time\n",
    "import numpy as np\n",
    "import torch\n",
    "import torch.nn as nn\n",
    "import torch.optim as optim\n",
    "import matplotlib.pyplot as plt\n",
    "from torch.cuda.amp import GradScaler, autocast\n",
    "from nvidia.dali.plugin.pytorch import DALIClassificationIterator, LastBatchPolicy\n",
    "from tqdm import tqdm\n",
    "from psutil import cpu_count\n",
    "from mobilenet import MobileNetLarge2D, MobileNetSmall2D, MobileNetSmall3D,MobileNetLarge3D\n",
    "from helpers import calculate_accuracy, initialize_mobilenet_weights, video_pipeline\n",
    "\n",
    "%matplotlib widget\n",
    "\n",
    "'''\n",
    "Our mean is ([0.3939, 0.3817, 0.3314])\n",
    "Our std is ([0.2104, 0.1986, 0.1829])\n",
    "'''\n",
    "\n",
    "\n",
    "\n",
    "'''Strikes are 0, balls 1 we will eventually pad with 2 or something so cross entropy loss can ignore it, not 0.'''\n",
    "\n",
    "device = 'cuda' if torch.cuda.is_available() else 'cpu'\n",
    "#hyperparameters\n",
    "learning_rate = 1e-3 #the paper quotes rmsprop with 0.1 lr, but we have a tiny batch size, and are using AdamW\n",
    "batch_size = 2 #the paper quotes 128 images/chip, but with video we have to change this\n",
    "max_iters = 200\n",
    "eval_interval = 50\n",
    "weight_decay = 0.0005\n",
    "momentum = 0.9\n",
    "eps = np.sqrt(0.002) #From the pytorch blog post, \"a reasonable approximation can be taken with the formula PyTorch_eps = sqrt(TF_eps).\"\n",
    "std = torch.tensor([0.2104*255, 0.1986*255, 0.1829*255])[None,None,None,:]\n",
    "mean = torch.tensor([0.3939*255, 0.3817*255, 0.3314*255])[None,None,None,:]\n",
    "use_autocast = True\n",
    "compile = False\n",
    "\n",
    "#information for the dali pipeline\n",
    "sequence_length = 276 #longest videos in our dataset\n",
    "initial_prefetch_size = 1000\n",
    "\n",
    "#video paths\n",
    "train_video_paths = '/home/hankhome/Documents/PythonProjects/picklebotdataset/train_test'\n",
    "val_video_paths = '/home/hankhome/Documents/PythonProjects/picklebotdataset/val_test'\n",
    "num_train_videos = len(os.listdir(train_video_paths + '/' + 'balls')) + len(os.listdir(train_video_paths + '/' + 'strikes'))\n",
    "num_val_videos = len(os.listdir(val_video_paths + '/' + 'balls')) + len(os.listdir(val_video_paths + '/' + 'strikes'))\n",
    "#define our model, initialize\n",
    "model = MobileNetSmall3D().to(device)\n",
    "# initialize_mobilenet_weights(model)\n",
    "\n",
    "#for multi-gpu setups \n",
    "#may want to revisit this and choose which device we use for loading with dali, and which to use for training the net.\n",
    "if torch.cuda.device_count() > 1:\n",
    "    model = nn.DataParallel(model)\n",
    "\n",
    "#define our optimizer\n",
    "#optimizer = optim.RMSprop(params=model.parameters(),lr=learning_rate,weight_decay=weight_decay,momentum=momentum,eps=eps) #starting with AdamW for now. \n",
    "optimizer = optim.AdamW(params=model.parameters(),lr=learning_rate,weight_decay=weight_decay)\n",
    "criterion = nn.CrossEntropyLoss() #we'll want to add back in ignoring the padding\n",
    "scaler = GradScaler()\n",
    "model_name = 'mobilenetsmall_3D_cloud' \n",
    "\n",
    "\n",
    "if compile:\n",
    "    print(\"compiling the model... (takes a ~minute)\")\n",
    "    unoptimized_model = model\n",
    "    model = torch.compile(model)  # requires PyTorch 2.0\n",
    "\n",
    "#estimate_loss using validation set, we should refactor this.\n",
    "@torch.no_grad()\n",
    "def estimate_loss():\n",
    "    #evaluate the model\n",
    "    model.eval()\n",
    "    val_losses = []\n",
    "    val_correct = 0\n",
    "    val_samples = 0\n",
    "\n",
    "    #calculate the loss\n",
    "    for _,val_features in tqdm(enumerate(val_loader)):\n",
    "        val_labels = (val_features[0]['label']).view(-1).long() #need this as a (batch_size,) tensor\n",
    "        val_features = val_features[0]['data']/255\n",
    "        val_features = (val_features-mean.to(device))/std.to(device) #normalize\n",
    "        val_features = val_features.permute(0,-1,1,2,3) \n",
    "        # val_labels = val_labels.expand(val_features.shape[2]) #this is only for our lstm T -> batch size, a lame hack\n",
    "\n",
    "        val_outputs = model(val_features)\n",
    "        \n",
    "        val_loss = criterion(val_outputs,val_labels)\n",
    "        \n",
    "        val_losses.append(val_loss.item())  \n",
    "        \n",
    "        val_correct += calculate_accuracy(val_outputs,val_labels) #get number of correct\n",
    "        val_samples += len(labels) #this is the total number of samples so far\n",
    "\n",
    "    avg_val_loss = np.mean(val_losses)\n",
    "    val_accuracy = val_correct / val_samples\n",
    "    return avg_val_loss, val_accuracy\n",
    "\n",
    "\n",
    "#initialize lists for plotting\n",
    "start_time = time.time()\n",
    "train_losses = []\n",
    "train_percent = []\n",
    "val_losses = []\n",
    "val_percent = []\n",
    "\n",
    "#plot losses\n",
    "plt.ion()\n",
    "fig, (ax1, ax2) = plt.subplots(1,2,figsize=(12,4))\n",
    "ax1.plot(train_losses, label='Train Loss')\n",
    "ax1.plot(val_losses, label='Val Loss')\n",
    "ax1.set_xlabel('Iteration')\n",
    "ax1.set_ylabel('Loss')\n",
    "ax1.legend()\n",
    "\n",
    "#plot accuracy\n",
    "ax2.plot(train_percent, label='Train Accuracy')\n",
    "ax2.plot(val_percent, label='Val Accuracy')\n",
    "ax2.set_xlabel('Iteration')\n",
    "ax2.set_ylabel('Accuracy')\n",
    "ax2.legend()\n",
    "\n",
    "#build our pipelines\n",
    "train_pipe = video_pipeline(batch_size=batch_size, num_threads=cpu_count(), device_id=0, file_root=train_video_paths,\n",
    "                            sequence_length=sequence_length,initial_prefetch_size=initial_prefetch_size)\n",
    "val_pipe = video_pipeline(batch_size=batch_size, num_threads=cpu_count(), device_id=0, file_root=val_video_paths,\n",
    "                          sequence_length=sequence_length,initial_prefetch_size=initial_prefetch_size)\n",
    "\n",
    "train_pipe.build()\n",
    "val_pipe.build()\n",
    "\n",
    "\n",
    "train_loader = DALIClassificationIterator(train_pipe, auto_reset=True,last_batch_policy=LastBatchPolicy.PARTIAL, size=num_train_videos)\n",
    "val_loader = DALIClassificationIterator(train_pipe, auto_reset=True,last_batch_policy=LastBatchPolicy.PARTIAL, size=num_train_videos)\n",
    "\n",
    "try:\n",
    "    for iter in range(max_iters):\n",
    "        \n",
    "        model.train()\n",
    "        train_correct = 0\n",
    "        train_samples = 0\n",
    "        batch_loss_list = [] #want to overwrite this each epoch\n",
    "        \n",
    "        #forward pass\n",
    "        for batch_idx, features in tqdm(enumerate(train_loader)):\n",
    "            \n",
    "            labels = (features[0]['label']).view(-1).long() #need this as a (batch_size,) tensor in int64\n",
    "            features = features[0]['data']/255 #i think it makes sense to overwrite features to save precious gpu memory\n",
    "            features = (features-mean.to(device))/std.to(device) #normalize\n",
    "\n",
    "\n",
    "            features = features.permute(0,-1,1,2,3)\n",
    "            # labels = labels.expand(features.shape[2]) #this is only for our lstm T -> batch size, a lame hack\n",
    "            \n",
    "            #zero the gradients\n",
    "            optimizer.zero_grad(set_to_none=True)\n",
    "            \n",
    "            if use_autocast:    \n",
    "                with autocast():\n",
    "                    outputs = model(features)\n",
    "                    loss = criterion(outputs,labels)\n",
    "                \n",
    "                #backprop & update weights\n",
    "\n",
    "                scaler.scale(loss).backward()\n",
    "                scaler.step(optimizer)\n",
    "                scaler.update()\n",
    "\n",
    "            else:\n",
    "                outputs = model(features)\n",
    "                loss = criterion(outputs,labels)\n",
    "\n",
    "                #backprop & update weights\n",
    "                loss.backward()\n",
    "                optimizer.step()\n",
    "        \n",
    "            batch_loss_list.append(loss.item()) #append the loss of the batch to our list to be averaged and plotted later, this is dataset size / batch size long\n",
    "            batch_correct = calculate_accuracy(outputs,labels) #number of correct predictions in the batch\n",
    "            train_correct += batch_correct #this is the total number of correct predictions so far\n",
    "            train_samples += len(labels) #this is the total number of samples so far\n",
    "\n",
    "\n",
    "        train_losses.append(np.mean(batch_loss_list))\n",
    "        train_percent.append(train_correct / train_samples)\n",
    "        elapsed = time.time() - start_time\n",
    "        remaining_iters = max_iters - iter\n",
    "        avg_time_per_iter = elapsed / (iter + 1)\n",
    "        estimated_remaining_time = remaining_iters * avg_time_per_iter\n",
    "\n",
    "        if iter != 0 and ((iter+1) % eval_interval == 0 or iter == max_iters - 1):\n",
    "            \n",
    "            #evaluate the model\n",
    "            val_loss, val_accuracy = estimate_loss()\n",
    "        \n",
    "            val_losses.append(val_loss) #loss of the val set\n",
    "            val_percent.append(val_accuracy) #percent of correct predictions in the val set\n",
    "\n",
    "\n",
    "            print(f\"step {iter}: train loss:  {train_losses[-1]:.4f}, val loss: {val_loss:.4f}\")\n",
    "            print(f\"step {iter}: train accuracy:  {train_percent[-1]*100:.2f}%, val accuracy: {val_percent[-1]*100:.2f}%\")\n",
    "\n",
    "            # #plot the losses\n",
    "            ax1.plot(torch.tensor(train_losses).view(-1,10).mean(1), label='Train Loss')\n",
    "            ax1.plot(torch.tensor(val_losses).view(-1,1).mean(1), label='Val Loss')\n",
    "\n",
    "            #plot the accuracy\n",
    "            ax2.plot(torch.tensor(train_percent).view(-1,10).mean(1), label='Train Accuracy')\n",
    "            ax2.plot(torch.tensor(val_percent).view(-1,1).mean(1), label='Val Accuracy')\n",
    "\n",
    "\n",
    "            fig.canvas.draw()\n",
    "            fig.canvas.flush_events()\n",
    "            plt.pause(0.001)\n",
    "\n",
    "        tqdm.write(f\"Iter [{iter+1}/{max_iters}] - Elapsed Time: {elapsed:.2f}s  Remaining Time: [{estimated_remaining_time:.2f}]\")\n",
    "        if iter == max_iters -1:\n",
    "            print(\"Training completed:\") \n",
    "            print(f\"Final train loss: {train_losses[-1]:.4f},\")\n",
    "            print(f\"Final val loss: {val_losses[-1]:.4f}, \")\n",
    "            print(f\"Final train accuracy: {train_percent[-1]*100:.2f}%, \")\n",
    "            print(f\"Final val accuracy: {val_percent[-1]*100:.2f}%\") \n",
    "            \n",
    "except KeyboardInterrupt:\n",
    "    print(f\"Keyboard interrupt,\\nFinal train loss: {train_losses[-1]:.4f}, \")\n",
    "    print(f\"Final val loss: {val_losses[-1]:.4f}, \")\n",
    "    print(f\"Final train accuracy: {train_percent[-1]*100:.2f}%, \")\n",
    "    print(f\"Final val accuracy: {val_percent[-1]*100:.2f}%\")\n",
    "\n",
    "finally:\n",
    "    torch.save(model.state_dict(), f'{model_name}.pth')\n",
    "    with open(f'{model_name}_train_losses.npy', 'wb') as f:\n",
    "        np.save(f, np.array(train_losses))\n",
    "    with open(f'{model_name}_val_losses.npy', 'wb') as f:\n",
    "        np.save(f, np.array(val_losses))\n",
    "    with open(f'{model_name}_train_percent.npy', 'wb') as f:\n",
    "        np.save(f, np.array(train_percent))\n",
    "    with open(f'{model_name}_val_percent.npy', 'wb') as f:\n",
    "        np.save(f, np.array(val_percent))\n",
    "    print(f\"Model saved!\") \n",
    "plt.ioff()"
   ]
  },
  {
   "cell_type": "code",
   "execution_count": 2,
   "metadata": {},
   "outputs": [],
   "source": [
    "#unnormalized stuff\n",
    "unnormalized_train_losses = train_losses\n",
    "unnormalized_val_losses = val_losses\n",
    "unnormalized_train_percent = train_percent\n",
    "unnormalized_val_percent = val_percent\n"
   ]
  },
  {
   "cell_type": "code",
   "execution_count": 4,
   "metadata": {},
   "outputs": [],
   "source": [
    "#normalized stuff\n",
    "normalized_train_losses = train_losses\n",
    "normalized_train_percent = train_percent\n",
    "normalized_val_losses = val_losses\n",
    "normalized_val_percent = val_percent"
   ]
  }
 ],
 "metadata": {
  "kernelspec": {
   "display_name": "Python 3 (ipykernel)",
   "language": "python",
   "name": "python3"
  },
  "language_info": {
   "codemirror_mode": {
    "name": "ipython",
    "version": 3
   },
   "file_extension": ".py",
   "mimetype": "text/x-python",
   "name": "python",
   "nbconvert_exporter": "python",
   "pygments_lexer": "ipython3",
   "version": "3.10.10"
  }
 },
 "nbformat": 4,
 "nbformat_minor": 4
}
