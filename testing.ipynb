{
 "cells": [
  {
   "cell_type": "code",
   "execution_count": 1,
   "metadata": {},
   "outputs": [
    {
     "name": "stdout",
     "output_type": "stream",
     "text": [
      "Lk:16\n"
     ]
    },
    {
     "ename": "",
     "evalue": "",
     "output_type": "error",
     "traceback": [
      "\u001b[1;31mThe Kernel crashed while executing code in the current cell or a previous cell. \n",
      "\u001b[1;31mPlease review the code in the cell(s) to identify a possible cause of the failure. \n",
      "\u001b[1;31mClick <a href='https://aka.ms/vscodeJupyterKernelCrash'>here</a> for more info. \n",
      "\u001b[1;31mView Jupyter <a href='command:jupyter.viewOutput'>log</a> for further details."
     ]
    }
   ],
   "source": [
    "import torch\n",
    "from mobilevit import MobileViT\n",
    "dims=[144,192,240]\n",
    "channels=[16,32,64,64,96,96,128,128,160,160,640]\n",
    "model=MobileViT(channels=channels,dims=dims,num_classes=13).to(torch.float16).cuda()\n",
    "A = torch.rand(1,3,100,224,224,dtype=torch.float16,device='cuda')\n",
    "model(A)\n"
   ]
  },
  {
   "cell_type": "code",
   "execution_count": 6,
   "metadata": {},
   "outputs": [
    {
     "name": "stdout",
     "output_type": "stream",
     "text": [
      "Total number of parameters in the model: 7771152\n"
     ]
    }
   ],
   "source": [
    "#count the number of parameters in the model\n",
    "total_params = sum(p.numel() for p in model.parameters())\n",
    "print(\"Total number of parameters in the model:\", total_params)"
   ]
  },
  {
   "cell_type": "code",
   "execution_count": 4,
   "metadata": {},
   "outputs": [
    {
     "name": "stdout",
     "output_type": "stream",
     "text": [
      "Epoch [1/5], Loss: 0.3569\n",
      "Epoch [2/5], Loss: nan\n",
      "Epoch [3/5], Loss: nan\n",
      "Epoch [4/5], Loss: nan\n",
      "Epoch [5/5], Loss: nan\n",
      "Test output: tensor([[nan],\n",
      "        [nan]], device='cuda:0', dtype=torch.float16)\n"
     ]
    }
   ],
   "source": [
    "import torch\n",
    "import torch.nn as nn\n",
    "import torch.nn.functional as F\n",
    "from flash_attention_triton import attention as flash_attention_kernel\n",
    "import torch.optim as optim\n",
    "\n",
    "\n",
    "# Define the model classes\n",
    "class FlashAttentionBlock(nn.Module):\n",
    "    def __init__(self, d_model, n_heads, flash_attention_kernel):\n",
    "        super(FlashAttentionBlock, self).__init__()\n",
    "        self.d_model = d_model\n",
    "        self.n_heads = n_heads\n",
    "        self.head_dim = d_model // n_heads\n",
    "\n",
    "        assert self.head_dim * n_heads == d_model, \"d_model must be divisible by n_heads\"\n",
    "\n",
    "        self.q_linear = nn.Linear(d_model, d_model)\n",
    "        self.k_linear = nn.Linear(d_model, d_model)\n",
    "        self.v_linear = nn.Linear(d_model, d_model)\n",
    "        self.out_linear = nn.Linear(d_model, d_model)\n",
    "\n",
    "        self.scale = self.head_dim ** -0.5\n",
    "        self.flash_attention_kernel = flash_attention_kernel\n",
    "\n",
    "    def forward(self, x):\n",
    "        B, N, D = x.shape\n",
    "\n",
    "        # Linear transformations\n",
    "        Q = self.q_linear(x).view(B, N, self.n_heads, self.head_dim).transpose(1, 2)\n",
    "        K = self.k_linear(x).view(B, N, self.n_heads, self.head_dim).transpose(1, 2)\n",
    "        V = self.v_linear(x).view(B, N, self.n_heads, self.head_dim).transpose(1, 2)\n",
    "\n",
    "        # FlashAttention using Triton kernel\n",
    "        attn_output = self.flash_attention_kernel(Q, K, V,False,self.scale)\n",
    "\n",
    "        # Concatenate heads and put through final linear layer\n",
    "        attn_output = attn_output.transpose(1, 2).contiguous().view(B, N, D)\n",
    "        output = self.out_linear(attn_output)\n",
    "\n",
    "        return output\n",
    "\n",
    "class ToyModel(nn.Module):\n",
    "    def __init__(self, d_model, n_heads, flash_attention_kernel):\n",
    "        super(ToyModel, self).__init__()\n",
    "        self.attention_block = FlashAttentionBlock(d_model, n_heads, flash_attention_kernel)\n",
    "        self.relu = nn.ReLU()\n",
    "        self.output_layer = nn.Linear(d_model, 1)  # Output layer for regression\n",
    "\n",
    "    def forward(self, x):\n",
    "        x = self.attention_block(x)\n",
    "        x = self.relu(x)\n",
    "        x = x.mean(dim=1)  # Global average pooling across the sequence length\n",
    "        x = x.view(x.size(0), -1)  # Ensure the correct shape for the output layer\n",
    "        x = self.output_layer(x)\n",
    "        return x\n",
    "\n",
    "# Instantiate the model\n",
    "d_model = 64\n",
    "n_heads = 4\n",
    "model = ToyModel(d_model, n_heads, flash_attention_kernel).to(torch.float16).cuda()\n",
    "\n",
    "# Generate some dummy data for training\n",
    "torch.manual_seed(42)\n",
    "batch_size = 16\n",
    "seq_length = 256 \n",
    "num_epochs = 5\n",
    "\n",
    "X_train = torch.randn(batch_size, seq_length, d_model,dtype=torch.float16).cuda()\n",
    "y_train = torch.randn(batch_size, 1,dtype=torch.float16).cuda()\n",
    "\n",
    "# Define the loss function and optimizer\n",
    "criterion = nn.MSELoss()\n",
    "optimizer = optim.Adam(model.parameters(), lr=0.001)\n",
    "\n",
    "# Training loop\n",
    "for epoch in range(num_epochs):\n",
    "    model.train()\n",
    "\n",
    "    # Forward pass\n",
    "    outputs = model(X_train)\n",
    "    loss = criterion(outputs, y_train)\n",
    "\n",
    "    # Backward pass and optimization\n",
    "    optimizer.zero_grad()\n",
    "    loss.backward()\n",
    "    optimizer.step()\n",
    "\n",
    "    print(f'Epoch [{epoch+1}/{num_epochs}], Loss: {loss.item():.4f}')\n",
    "\n",
    "# Test the model with dummy input\n",
    "model.eval()\n",
    "with torch.no_grad():\n",
    "    test_input = torch.randn(2, seq_length, d_model).to('cuda').to(torch.float16)  # Batch size of 2, sequence length of 10, model dimension of 64\n",
    "    test_output = model(test_input)\n",
    "    print(\"Test output:\", test_output)\n"
   ]
  }
 ],
 "metadata": {
  "kernelspec": {
   "display_name": "Python 3",
   "language": "python",
   "name": "python3"
  },
  "language_info": {
   "codemirror_mode": {
    "name": "ipython",
    "version": 3
   },
   "file_extension": ".py",
   "mimetype": "text/x-python",
   "name": "python",
   "nbconvert_exporter": "python",
   "pygments_lexer": "ipython3",
   "version": "3.10.12"
  }
 },
 "nbformat": 4,
 "nbformat_minor": 2
}
