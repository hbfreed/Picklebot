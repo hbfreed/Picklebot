{
 "cells": [
  {
   "cell_type": "code",
   "execution_count": null,
   "metadata": {},
   "outputs": [],
   "source": [
    "import torch\n",
    "from mobilenet import MobileNetSmall3D\n",
    "from torchvision.io import read_video\n",
    "!pip install -q mediapy\n",
    "import mediapy\n",
    "!pip install -q av\n",
    "#@title Run this cell to run Picklebot for your choice of video\n",
    "\n",
    "def classify_pitch(confidence_scores):\n",
    "    if torch.argmax(confidence_scores) == 0:\n",
    "        call = 'ball'\n",
    "    elif torch.argmax(confidence_scores) == 1:\n",
    "        call = 'strike'\n",
    "    else:\n",
    "        print(\"that's odd, something is wrong\")\n",
    "        pass\n",
    "    return call\n",
    "\n",
    "\n",
    "ball_video = 'demo_files/clip_7765.mp4'\n",
    "strike_video = 'demo_files/clip_53102.mp4'\n",
    "wild_card = 'demo_files/wildcard.mp4'\n",
    "\n",
    "pitch_choice = 'Ball' #@param ['Ball', 'Strike', 'Wild Card']\n",
    "\n",
    "choice_map = {\n",
    "    'Ball':ball_video,\n",
    "    'Strike':strike_video,\n",
    "    'Wild Card':wild_card\n",
    "}\n",
    "\n",
    "pitch = choice_map[pitch_choice]\n",
    "\n",
    "video = mediapy.read_video(pitch)\n",
    "mediapy.show_video(video)\n",
    "\n",
    "pitch_tensor = (read_video(pitch,pts_unit='sec')[0].permute(-1,0,1,2)).unsqueeze(0)/255\n",
    "\n",
    "model = MobileNetSmall3D()\n",
    "model.load_state_dict(torch.load('models/mobilenet_small.pth'))\n",
    "#load the dictionary\n",
    "model.eval()\n",
    "output = model(pitch_tensor)\n",
    "call = classify_pitch(output)\n",
    "\n",
    "print(f\"This pitch was a {call}!\")"
   ]
  }
 ],
 "metadata": {
  "kernelspec": {
   "display_name": "base",
   "language": "python",
   "name": "python3"
  },
  "language_info": {
   "codemirror_mode": {
    "name": "ipython",
    "version": 3
   },
   "file_extension": ".py",
   "mimetype": "text/x-python",
   "name": "python",
   "nbconvert_exporter": "python",
   "pygments_lexer": "ipython3",
   "version": "3.10.12"
  }
 },
 "nbformat": 4,
 "nbformat_minor": 2
}
