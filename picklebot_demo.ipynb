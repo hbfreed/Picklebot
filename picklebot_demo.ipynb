{
 "cells": [
  {
   "cell_type": "markdown",
   "metadata": {},
   "source": [
    "Try out Picklebot, an AI umpire trained to call balls and strikes! This interactive demo allows you to pick pitch types and see Picklebot's predictions live from MLB game footage.\n",
    "\n",
    "To use it, simply select a pitch from the dropdown and run the code cell. Picklebot will analyze the video clip and display the ball/strike call.\n",
    "\n",
    "Under the hood, Picklebot is a deep learning model trained on over 50,000 labeled pitches from MLB games. It uses adapted architectures from mobile neural networks like MobileNetV3 and MoViNet reconfigured to work on video instead of photos. Focusing these efficient architectures on pitch classification achieves 80% accuracy in calling balls and strikes.\n",
    "\n",
    "The training dataset was created by downloading archival MLB footage and manually labeling each pitch classification.\n",
    "\n",
    "This demo lets you evaluate Picklebot's pitch calling abilities first-hand. Check out the code and model details to learn more about how AI can replicate human umpire decisions! Let me know if you have any other questions."
   ]
  },
  {
   "cell_type": "code",
   "execution_count": null,
   "metadata": {},
   "outputs": [],
   "source": [
    "#collapse\n",
    "\n",
    "!git clone -q https://github.com/hbfreed/Picklebot\n",
    "import torch\n",
    "from IPython.display import HTML\n",
    "from Picklebot.mobilenet import MobileNetSmall3D\n",
    "from mobilenet import MobileNetSmall3D\n",
    "!pip install -q av\n",
    "from torchvision.io import read_video\n",
    "!pip install -q mediapy\n",
    "import mediapy\n",
    "\n",
    "#@title Run this cell (press the 'play' button) to run Picklebot for your choice of video\n",
    "\n",
    "def classify_pitch(confidence_scores):\n",
    "    if torch.argmax(confidence_scores) == 0:\n",
    "        call = 'Ball'\n",
    "    elif torch.argmax(confidence_scores) == 1:\n",
    "        call = 'Strike'\n",
    "    else:\n",
    "        print(\"that's odd, something is wrong\")\n",
    "        pass\n",
    "    return call\n",
    "\n",
    "\n",
    "ball_video = 'Picklebot/demo_files/clip_7765.mp4'\n",
    "strike_video = 'Picklebot/demo_files/clip_53102.mp4'\n",
    "\n",
    "pitch_choice = 'Ball' #@param ['Ball', 'Strike']\n",
    "\n",
    "choice_map = {\n",
    "    'Ball':ball_video,\n",
    "    'Strike':strike_video,\n",
    "}\n",
    "\n",
    "pitch = choice_map[pitch_choice]\n",
    "\n",
    "video = mediapy.read_video(pitch)\n",
    "mediapy.show_video(video,width=600)\n",
    "\n",
    "pitch_tensor = (read_video(pitch,pts_unit='sec')[0].permute(-1,0,1,2)).unsqueeze(0)/255\n",
    "# load the model, load the model's weights\n",
    "model = MobileNetSmall3D()\n",
    "model.load_state_dict(torch.load('models/mobilenet_small.pth',map_location=torch.device('cpu')))\n",
    "\n",
    "# run the model\n",
    "model.eval()\n",
    "output = model(pitch_tensor)\n",
    "call = classify_pitch(output)\n",
    "\n",
    "HTML(f\"<h1>{call}!<h1>\")"
   ]
  }
 ],
 "metadata": {
  "kernelspec": {
   "display_name": "base",
   "language": "python",
   "name": "python3"
  },
  "language_info": {
   "codemirror_mode": {
    "name": "ipython",
    "version": 3
   },
   "file_extension": ".py",
   "mimetype": "text/x-python",
   "name": "python",
   "nbconvert_exporter": "python",
   "pygments_lexer": "ipython3",
   "version": "3.10.10"
  }
 },
 "nbformat": 4,
 "nbformat_minor": 2
}
